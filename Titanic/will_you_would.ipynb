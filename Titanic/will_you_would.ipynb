{
 "cells": [
  {
   "cell_type": "markdown",
   "metadata": {},
   "source": [
    "# Will you would Survive!!. "
   ]
  },
  {
   "cell_type": "code",
   "execution_count": 24,
   "metadata": {},
   "outputs": [],
   "source": [
    "import joblib"
   ]
  },
  {
   "cell_type": "code",
   "execution_count": 25,
   "metadata": {},
   "outputs": [],
   "source": [
    "ml_model = joblib.load(\"Titanic_Survival_Prediction_Model\")"
   ]
  },
  {
   "cell_type": "code",
   "execution_count": 26,
   "metadata": {},
   "outputs": [
    {
     "name": "stdout",
     "output_type": "stream",
     "text": [
      "Enter the class ie: 1(Lower_class), 2(Middle_Class), 3(High_Class): \n",
      "Sex 0:Male, 1:Female\n",
      "Name is Abhishek P Nair, Pclass is 2, Sex is 0, Age is 19, Fare is 178\n"
     ]
    }
   ],
   "source": [
    "name = input(\"Enter your Name: \")\n",
    "print(\"Enter the class ie: 1(Lower_class), 2(Middle_Class), 3(High_Class): \")\n",
    "p_cl = int(input(\"Enter only 1, 2 or 3: \"))\n",
    "\n",
    "print(\"Sex 0:Male, 1:Female\")\n",
    "\n",
    "import random \n",
    "random.randint(0,513)\n",
    "\n",
    "sex , age = input(\"Enter Sex, Age: \").split()\n",
    "if p_cl == 1:\n",
    "    fare = random.randint(0,75)\n",
    "elif p_cl == 2:\n",
    "    fare = random.randint(76, 200)\n",
    "else:\n",
    "    fare = random.randint(201, 513)\n",
    "\n",
    "\n",
    "print(\"Name is {}, Pclass is {}, Sex is {}, Age is {}, Fare is {}\".format(name,p_cl,sex, age, fare))\n",
    "\n"
   ]
  },
  {
   "cell_type": "code",
   "execution_count": 27,
   "metadata": {},
   "outputs": [],
   "source": [
    "data = [[p_cl, sex, age, fare]]\n"
   ]
  },
  {
   "cell_type": "code",
   "execution_count": 28,
   "metadata": {},
   "outputs": [
    {
     "name": "stdout",
     "output_type": "stream",
     "text": [
      "You will not!!\n"
     ]
    },
    {
     "name": "stderr",
     "output_type": "stream",
     "text": [
      "/home/abhipnair/.local/lib/python3.11/site-packages/sklearn/base.py:439: UserWarning: X does not have valid feature names, but DecisionTreeClassifier was fitted with feature names\n",
      "  warnings.warn(\n"
     ]
    }
   ],
   "source": [
    "if ml_model.predict(data) == 1:\n",
    "    print(\"You will Survive: \")\n",
    "else:\n",
    "    print(\"You will not!!\")"
   ]
  }
 ],
 "metadata": {
  "kernelspec": {
   "display_name": "Python 3",
   "language": "python",
   "name": "python3"
  },
  "language_info": {
   "codemirror_mode": {
    "name": "ipython",
    "version": 3
   },
   "file_extension": ".py",
   "mimetype": "text/x-python",
   "name": "python",
   "nbconvert_exporter": "python",
   "pygments_lexer": "ipython3",
   "version": "3.11.3"
  },
  "orig_nbformat": 4
 },
 "nbformat": 4,
 "nbformat_minor": 2
}
